{
 "cells": [
  {
   "cell_type": "markdown",
   "metadata": {},
   "source": [
    "# Hacktiv8 Phase 0: Non Graded Challenge 4\n",
    "\n",
    "---\n",
    "\n",
    "by [Rifky Aliffa](https://github.com/Penzragon)\n",
    "\n",
    "Instruction:\n",
    "\n",
    "Apakah ![Vector](https://latex.codecogs.com/gif.latex?%5Cinline%20%5Cbegin%7Bbmatrix%7D1%20%5C%5C%203%20%5Cend%7Bbmatrix%7D) adalah eigenvector dari ![Matrix](https://latex.codecogs.com/gif.latex?%5Cinline%20%5Cbegin%7Bbmatrix%7D1%20%26%20-1%20%5C%5C%206%26%204%20%5Cend%7Bbmatrix%7D)?\n",
    "\n",
    "Jika iya, berapakah eigenvalue-nya?\n"
   ]
  },
  {
   "cell_type": "markdown",
   "metadata": {},
   "source": [
    "## Import Library"
   ]
  },
  {
   "cell_type": "code",
   "execution_count": 1,
   "metadata": {},
   "outputs": [],
   "source": [
    "import numpy as np"
   ]
  },
  {
   "cell_type": "markdown",
   "metadata": {},
   "source": [
    "## Answer"
   ]
  },
  {
   "cell_type": "markdown",
   "metadata": {},
   "source": [
    "Membuat vector V"
   ]
  },
  {
   "cell_type": "code",
   "execution_count": 2,
   "metadata": {},
   "outputs": [
    {
     "data": {
      "text/plain": [
       "array([1, 3])"
      ]
     },
     "execution_count": 2,
     "metadata": {},
     "output_type": "execute_result"
    }
   ],
   "source": [
    "V = [1, 3]\n",
    "V = np.array(V)\n",
    "V"
   ]
  },
  {
   "cell_type": "markdown",
   "metadata": {},
   "source": [
    "Membuat Matrix M"
   ]
  },
  {
   "cell_type": "code",
   "execution_count": 3,
   "metadata": {},
   "outputs": [
    {
     "data": {
      "text/plain": [
       "array([[ 1, -1],\n",
       "       [ 6,  4]])"
      ]
     },
     "execution_count": 3,
     "metadata": {},
     "output_type": "execute_result"
    }
   ],
   "source": [
    "M = [[1, -1], [6, 4]]\n",
    "M = np.array(M)\n",
    "M"
   ]
  },
  {
   "cell_type": "markdown",
   "metadata": {},
   "source": [
    "Mencari eigenvalue dan eigenvector dari matrix M"
   ]
  },
  {
   "cell_type": "code",
   "execution_count": 4,
   "metadata": {},
   "outputs": [],
   "source": [
    "eigval, eigvec = np.linalg.eig(M)"
   ]
  },
  {
   "cell_type": "code",
   "execution_count": 5,
   "metadata": {},
   "outputs": [
    {
     "data": {
      "text/plain": [
       "array([2.5+1.93649167j, 2.5-1.93649167j])"
      ]
     },
     "execution_count": 5,
     "metadata": {},
     "output_type": "execute_result"
    }
   ],
   "source": [
    "eigval"
   ]
  },
  {
   "cell_type": "code",
   "execution_count": 6,
   "metadata": {},
   "outputs": [
    {
     "data": {
      "text/plain": [
       "array([[-0.23145502+0.29880715j, -0.23145502-0.29880715j],\n",
       "       [ 0.9258201 +0.j        ,  0.9258201 -0.j        ]])"
      ]
     },
     "execution_count": 6,
     "metadata": {},
     "output_type": "execute_result"
    }
   ],
   "source": [
    "eigvec"
   ]
  },
  {
   "cell_type": "markdown",
   "metadata": {},
   "source": [
    "Formula to find Eigenvalue and Eigenvector:\n",
    "\n",
    "$A$ $x$ = $λ$ $x$"
   ]
  },
  {
   "cell_type": "markdown",
   "metadata": {},
   "source": [
    "Membuat kondisi dimana jika hasil matrix (M) dikalikan dengan vector (V) sama dengan eigenvalue dari matrix (M) dikalikan dengan vector (V)."
   ]
  },
  {
   "cell_type": "code",
   "execution_count": 7,
   "metadata": {},
   "outputs": [
    {
     "name": "stdout",
     "output_type": "stream",
     "text": [
      "Vector V bukan merupakan eigenvector dari matrix M.\n",
      "Eigenvector dari matrix M adalah: \n",
      "[[-0.23145502+0.29880715j -0.23145502-0.29880715j]\n",
      " [ 0.9258201 +0.j          0.9258201 -0.j        ]]\n"
     ]
    }
   ],
   "source": [
    "if (M @ V == eigval * V).any():\n",
    "    print(f'Vector V adalah eigenvector dari matrix M dengan eigenvalue = {eigval}.')\n",
    "else:\n",
    "    print('Vector V bukan merupakan eigenvector dari matrix M.')\n",
    "    print(f'Eigenvector dari matrix M adalah: \\n{eigvec}')"
   ]
  },
  {
   "cell_type": "markdown",
   "metadata": {},
   "source": [
    "Vector ![Vector](https://latex.codecogs.com/gif.latex?%5Cinline%20%5Cbegin%7Bbmatrix%7D1%20%5C%5C%203%20%5Cend%7Bbmatrix%7D) ***BUKAN*** merupakan eigenvector dari matrix ![Matrix](https://latex.codecogs.com/gif.latex?%5Cinline%20%5Cbegin%7Bbmatrix%7D1%20%26%20-1%20%5C%5C%206%26%204%20%5Cend%7Bbmatrix%7D)."
   ]
  }
 ],
 "metadata": {
  "interpreter": {
   "hash": "aa9e1a1d5fc59c64a36ca54f7d8a22385cd9af1c34966b28ec5cc3b7d8afa19f"
  },
  "kernelspec": {
   "display_name": "Python 3.9.1 64-bit",
   "language": "python",
   "name": "python3"
  },
  "language_info": {
   "codemirror_mode": {
    "name": "ipython",
    "version": 3
   },
   "file_extension": ".py",
   "mimetype": "text/x-python",
   "name": "python",
   "nbconvert_exporter": "python",
   "pygments_lexer": "ipython3",
   "version": "3.9.1"
  },
  "orig_nbformat": 4
 },
 "nbformat": 4,
 "nbformat_minor": 2
}
